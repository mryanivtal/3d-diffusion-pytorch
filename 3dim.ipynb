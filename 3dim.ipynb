{
  "cells": [
    {
      "cell_type": "markdown",
      "source": [
        "### Check GPU configuration"
      ],
      "metadata": {
        "id": "j8h2KbOfVefi"
      }
    },
    {
      "cell_type": "code",
      "execution_count": 4,
      "metadata": {
        "colab": {
          "base_uri": "https://localhost:8080/"
        },
        "id": "J4DWPQ0HbyJF",
        "outputId": "37c990ae-1642-493e-dcb6-f7f97ff21feb"
      },
      "outputs": [
        {
          "output_type": "stream",
          "name": "stdout",
          "text": [
            "Thu Apr  6 18:02:17 2023       \n",
            "+-----------------------------------------------------------------------------+\n",
            "| NVIDIA-SMI 525.85.12    Driver Version: 525.85.12    CUDA Version: 12.0     |\n",
            "|-------------------------------+----------------------+----------------------+\n",
            "| GPU  Name        Persistence-M| Bus-Id        Disp.A | Volatile Uncorr. ECC |\n",
            "| Fan  Temp  Perf  Pwr:Usage/Cap|         Memory-Usage | GPU-Util  Compute M. |\n",
            "|                               |                      |               MIG M. |\n",
            "|===============================+======================+======================|\n",
            "|   0  NVIDIA A100-SXM...  Off  | 00000000:00:04.0 Off |                    0 |\n",
            "| N/A   30C    P0    43W / 400W |      0MiB / 40960MiB |      0%      Default |\n",
            "|                               |                      |             Disabled |\n",
            "+-------------------------------+----------------------+----------------------+\n",
            "                                                                               \n",
            "+-----------------------------------------------------------------------------+\n",
            "| Processes:                                                                  |\n",
            "|  GPU   GI   CI        PID   Type   Process name                  GPU Memory |\n",
            "|        ID   ID                                                   Usage      |\n",
            "|=============================================================================|\n",
            "|  No running processes found                                                 |\n",
            "+-----------------------------------------------------------------------------+\n",
            "Your runtime has 89.6 gigabytes of available RAM\n",
            "\n",
            "You are using a high-RAM runtime!\n"
          ]
        }
      ],
      "source": [
        "# Check env settings\n",
        "gpu_info = !nvidia-smi\n",
        "gpu_info = '\\n'.join(gpu_info)\n",
        "if gpu_info.find('failed') >= 0:\n",
        "  print('Not connected to a GPU')\n",
        "else:\n",
        "  print(gpu_info)\n",
        "\n",
        "\n",
        "from psutil import virtual_memory\n",
        "ram_gb = virtual_memory().total / 1e9\n",
        "print('Your runtime has {:.1f} gigabytes of available RAM\\n'.format(ram_gb))\n",
        "\n",
        "if ram_gb < 20:\n",
        "  print('Not using a high-RAM runtime')\n",
        "else:\n",
        "  print('You are using a high-RAM runtime!')"
      ]
    },
    {
      "cell_type": "markdown",
      "source": [
        "### Connect drive, download dataset"
      ],
      "metadata": {
        "id": "pDTiTPeUVjU4"
      }
    },
    {
      "cell_type": "code",
      "source": [
        "!pip install einops\n",
        "!pip install visu3d\n",
        "!pip install tensorboardX"
      ],
      "metadata": {
        "colab": {
          "base_uri": "https://localhost:8080/"
        },
        "id": "e42e1BOCqcUI",
        "outputId": "95f98784-03c5-4183-8d41-677570e509e4"
      },
      "execution_count": 5,
      "outputs": [
        {
          "output_type": "stream",
          "name": "stdout",
          "text": [
            "Looking in indexes: https://pypi.org/simple, https://us-python.pkg.dev/colab-wheels/public/simple/\n",
            "Requirement already satisfied: einops in /usr/local/lib/python3.9/dist-packages (0.6.0)\n",
            "Looking in indexes: https://pypi.org/simple, https://us-python.pkg.dev/colab-wheels/public/simple/\n",
            "Requirement already satisfied: visu3d in /usr/local/lib/python3.9/dist-packages (1.5.1)\n",
            "Requirement already satisfied: dataclass_array in /usr/local/lib/python3.9/dist-packages (from visu3d) (1.4.1)\n",
            "Requirement already satisfied: numpy in /usr/local/lib/python3.9/dist-packages (from visu3d) (1.22.4)\n",
            "Requirement already satisfied: einops in /usr/local/lib/python3.9/dist-packages (from visu3d) (0.6.0)\n",
            "Requirement already satisfied: typing_extensions in /usr/local/lib/python3.9/dist-packages (from visu3d) (4.5.0)\n",
            "Requirement already satisfied: etils[edc,enp,epath,epy,etree] in /usr/local/lib/python3.9/dist-packages (from visu3d) (1.1.1)\n",
            "Requirement already satisfied: lark in /usr/local/lib/python3.9/dist-packages (from dataclass_array->visu3d) (1.1.5)\n",
            "Requirement already satisfied: importlib_resources in /usr/local/lib/python3.9/dist-packages (from etils[edc,enp,epath,epy,etree]->visu3d) (5.12.0)\n",
            "Requirement already satisfied: zipp in /usr/local/lib/python3.9/dist-packages (from etils[edc,enp,epath,epy,etree]->visu3d) (3.15.0)\n",
            "Requirement already satisfied: absl-py in /usr/local/lib/python3.9/dist-packages (from etils[edc,enp,epath,epy,etree]->visu3d) (1.4.0)\n",
            "Requirement already satisfied: tqdm in /usr/local/lib/python3.9/dist-packages (from etils[edc,enp,epath,epy,etree]->visu3d) (4.65.0)\n",
            "Looking in indexes: https://pypi.org/simple, https://us-python.pkg.dev/colab-wheels/public/simple/\n",
            "Collecting tensorboardX\n",
            "  Using cached tensorboardX-2.6-py2.py3-none-any.whl (114 kB)\n",
            "Requirement already satisfied: protobuf<4,>=3.8.0 in /usr/local/lib/python3.9/dist-packages (from tensorboardX) (3.20.3)\n",
            "Requirement already satisfied: numpy in /usr/local/lib/python3.9/dist-packages (from tensorboardX) (1.22.4)\n",
            "Requirement already satisfied: packaging in /usr/local/lib/python3.9/dist-packages (from tensorboardX) (23.0)\n",
            "Installing collected packages: tensorboardX\n",
            "Successfully installed tensorboardX-2.6\n"
          ]
        }
      ]
    },
    {
      "cell_type": "code",
      "execution_count": 6,
      "metadata": {
        "colab": {
          "base_uri": "https://localhost:8080/"
        },
        "id": "2QJk9bE-d2jK",
        "outputId": "8f5863a9-47a0-4dae-8a41-b263b887ef6c"
      },
      "outputs": [
        {
          "output_type": "stream",
          "name": "stdout",
          "text": [
            "Mounted at /content/drive/\n"
          ]
        }
      ],
      "source": [
        "from pathlib import Path\n",
        "import shutil\n",
        "import zipfile\n",
        "import requests\n",
        "\n",
        "# mount drive\n",
        "from google.colab import drive\n",
        "drive.mount('/content/drive/')\n",
        "project_root_path = Path('drive/MyDrive/Colab Notebooks/3dim')\n",
        "\n",
        "cars_train_dataset_url = 'https://drive.google.com/file/d/1bThUNtIHx4xEQyffVBSf82ABDDh2HlFn/view?usp=share_link'\n",
        "ds_path = Path('datasets')\n",
        "if not ds_path.exists():\n",
        "  # copy dataset zip to local\n",
        "  ds_path.mkdir(exist_ok=True, parents=True)\n",
        "  shutil.copy(project_root_path / Path('cars_train.zip'), ds_path)\n",
        "\n",
        "  # extract zip\n",
        "  with zipfile.ZipFile(ds_path / Path('cars_train.zip'), 'r') as zip_ref:\n",
        "      zip_ref.extractall(ds_path)\n",
        "\n",
        "  DATASET_PATH = ds_path / Path('cars_train')\n"
      ]
    },
    {
      "cell_type": "markdown",
      "source": [
        "### Download sources from github"
      ],
      "metadata": {
        "id": "uCGKKku1VOou"
      }
    },
    {
      "cell_type": "code",
      "execution_count": 25,
      "metadata": {
        "colab": {
          "base_uri": "https://localhost:8080/"
        },
        "id": "aWl-7sQib5wf",
        "outputId": "6e561be3-ffea-4463-c845-6131c1bbc188"
      },
      "outputs": [
        {
          "output_type": "stream",
          "name": "stdout",
          "text": [
            "Cloning into '3d-diffusion-pytorch'...\n",
            "remote: Enumerating objects: 84, done.\u001b[K\n",
            "remote: Counting objects: 100% (84/84), done.\u001b[K\n",
            "remote: Compressing objects: 100% (64/64), done.\u001b[K\n",
            "remote: Total 84 (delta 43), reused 58 (delta 20), pack-reused 0\u001b[K\n",
            "Unpacking objects: 100% (84/84), 288.22 KiB | 701.00 KiB/s, done.\n"
          ]
        }
      ],
      "source": [
        "!rm -rf 3d-diffusion-pytorch\n",
        "!git clone https://github.com/mryanivtal/3d-diffusion-pytorch.git"
      ]
    },
    {
      "cell_type": "markdown",
      "source": [
        "### Train from scratch"
      ],
      "metadata": {
        "id": "JKcj2wMBVTAz"
      }
    },
    {
      "cell_type": "code",
      "execution_count": 28,
      "metadata": {
        "id": "PPXOc4uhiK6m",
        "colab": {
          "base_uri": "https://localhost:8080/"
        },
        "outputId": "50270bd3-3dbd-408c-ee04-9b732e385210"
      },
      "outputs": [
        {
          "output_type": "stream",
          "name": "stdout",
          "text": [
            "device: cuda\n",
            "starting epoch 0\n",
            "  0% 0/967 [00:00<?, ?it/s]Loss: 1.0107372999191284\n",
            "  0% 0/967 [00:02<?, ?it/s]\n",
            "Evaluating model...\n",
            "256it [00:48,  5.32it/s]\n",
            "Traceback (most recent call last):\n",
            "  File \"/usr/local/lib/python3.9/dist-packages/einops/einops.py\", line 412, in reduce\n",
            "    return _apply_recipe(recipe, tensor, reduction_type=reduction)\n",
            "  File \"/usr/local/lib/python3.9/dist-packages/einops/einops.py\", line 235, in _apply_recipe\n",
            "    _reconstruct_from_shape(recipe, backend.shape(tensor))\n",
            "  File \"/usr/local/lib/python3.9/dist-packages/einops/einops.py\", line 191, in _reconstruct_from_shape_uncached\n",
            "    raise EinopsError('Shape mismatch, {} != {}'.format(length, known_product))\n",
            "einops.EinopsError: Shape mismatch, 2 != 128\n",
            "\n",
            "During handling of the above exception, another exception occurred:\n",
            "\n",
            "Traceback (most recent call last):\n",
            "  File \"/content/3d-diffusion-pytorch/train.py\", line 151, in <module>\n",
            "    img = rearrange(((img[-1].clip(-1, 1) + 1) * 127.5).astype(np.uint8), \"(b a) c h w -> a c h (b w)\", a=8,\n",
            "  File \"/usr/local/lib/python3.9/dist-packages/einops/einops.py\", line 483, in rearrange\n",
            "    return reduce(cast(Tensor, tensor), pattern, reduction='rearrange', **axes_lengths)\n",
            "  File \"/usr/local/lib/python3.9/dist-packages/einops/einops.py\", line 420, in reduce\n",
            "    raise EinopsError(message + '\\n {}'.format(e))\n",
            "einops.EinopsError:  Error while processing rearrange-reduction pattern \"(b a) c h w -> a c h (b w)\".\n",
            " Input tensor shape: (2, 3, 64, 64). Additional info: {'a': 8, 'b': 16}.\n",
            " Shape mismatch, 2 != 128\n"
          ]
        }
      ],
      "source": [
        "import torch\n",
        "torch.cuda.empty_cache()\n",
        "!cd 3d-diffusion-pytorch; python train.py --datadir=\"../datasets/cars_train\" --outdir=\"../drive/MyDrive/Colab Notebooks/3dim/output\" --batchsize=32 --reportlossevery=10 --evaluateevery=1 --checkpointevery=2 --epochs=5"
      ]
    },
    {
      "cell_type": "markdown",
      "source": [
        "### Train - start from checkpoint"
      ],
      "metadata": {
        "id": "PxwjPEyoVWV5"
      }
    },
    {
      "cell_type": "markdown",
      "source": [
        "### Inference only from model checkpoint"
      ],
      "metadata": {
        "id": "7fGvFP4Ee_zj"
      }
    }
  ],
  "metadata": {
    "accelerator": "GPU",
    "colab": {
      "provenance": [],
      "collapsed_sections": [
        "PxwjPEyoVWV5",
        "7fGvFP4Ee_zj"
      ]
    },
    "gpuClass": "premium",
    "kernelspec": {
      "display_name": "Python 3 (ipykernel)",
      "language": "python",
      "name": "python3"
    },
    "language_info": {
      "codemirror_mode": {
        "name": "ipython",
        "version": 3
      },
      "file_extension": ".py",
      "mimetype": "text/x-python",
      "name": "python",
      "nbconvert_exporter": "python",
      "pygments_lexer": "ipython3",
      "version": "3.10.8"
    }
  },
  "nbformat": 4,
  "nbformat_minor": 0
}