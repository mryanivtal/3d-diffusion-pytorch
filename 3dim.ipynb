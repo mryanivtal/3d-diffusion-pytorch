{
  "cells": [
    {
      "cell_type": "markdown",
      "source": [
        "### Check GPU configuration"
      ],
      "metadata": {
        "id": "j8h2KbOfVefi"
      }
    },
    {
      "cell_type": "code",
      "execution_count": null,
      "metadata": {
        "id": "J4DWPQ0HbyJF"
      },
      "outputs": [],
      "source": [
        "# Check env settings\n",
        "gpu_info = !nvidia-smi\n",
        "gpu_info = '\\n'.join(gpu_info)\n",
        "if gpu_info.find('failed') >= 0:\n",
        "  print('Not connected to a GPU')\n",
        "else:\n",
        "  print(gpu_info)\n",
        "\n",
        "\n",
        "from psutil import virtual_memory\n",
        "ram_gb = virtual_memory().total / 1e9\n",
        "print('Your runtime has {:.1f} gigabytes of available RAM\\n'.format(ram_gb))\n",
        "\n",
        "if ram_gb < 20:\n",
        "  print('Not using a high-RAM runtime')\n",
        "else:\n",
        "  print('You are using a high-RAM runtime!')"
      ]
    },
    {
      "cell_type": "markdown",
      "source": [
        "### Connect drive, download dataset"
      ],
      "metadata": {
        "id": "pDTiTPeUVjU4"
      }
    },
    {
      "cell_type": "code",
      "source": [
        "!pip install einops\n",
        "!pip install visu3d\n",
        "!pip install tensorboardX"
      ],
      "metadata": {
        "id": "e42e1BOCqcUI"
      },
      "execution_count": null,
      "outputs": []
    },
    {
      "cell_type": "code",
      "execution_count": null,
      "metadata": {
        "id": "2QJk9bE-d2jK"
      },
      "outputs": [],
      "source": [
        "from pathlib import Path\n",
        "import shutil\n",
        "import zipfile\n",
        "import requests\n",
        "\n",
        "# mount drive\n",
        "from google.colab import drive\n",
        "drive.mount('/content/drive/')\n",
        "project_root_path = Path('drive/MyDrive/Colab Notebooks/3dim')\n",
        "\n",
        "cars_train_dataset_url = 'https://drive.google.com/file/d/1bThUNtIHx4xEQyffVBSf82ABDDh2HlFn/view?usp=share_link'\n",
        "ds_path = Path('datasets')\n",
        "if not ds_path.exists():\n",
        "  # copy dataset zip to local\n",
        "  ds_path.mkdir(exist_ok=True, parents=True)\n",
        "  shutil.copy(project_root_path / Path('cars_train.zip'), ds_path)\n",
        "\n",
        "  # extract zip\n",
        "  with zipfile.ZipFile(ds_path / Path('cars_train.zip'), 'r') as zip_ref:\n",
        "      zip_ref.extractall(ds_path)\n",
        "\n",
        "  DATASET_PATH = ds_path / Path('cars_train')\n"
      ]
    },
    {
      "cell_type": "markdown",
      "source": [
        "### Download sources from github"
      ],
      "metadata": {
        "id": "uCGKKku1VOou"
      }
    },
    {
      "cell_type": "code",
      "execution_count": null,
      "metadata": {
        "id": "aWl-7sQib5wf"
      },
      "outputs": [],
      "source": [
        "!rm -rf 3d-diffusion-pytorch\n",
        "!git clone https://github.com/mryanivtal/3d-diffusion-pytorch.git"
      ]
    },
    {
      "cell_type": "markdown",
      "source": [
        "### Train from scratch"
      ],
      "metadata": {
        "id": "JKcj2wMBVTAz"
      }
    },
    {
      "cell_type": "code",
      "execution_count": null,
      "metadata": {
        "id": "PPXOc4uhiK6m"
      },
      "outputs": [],
      "source": [
        "import torch\n",
        "torch.cuda.empty_cache()\n",
        "!cd 3d-diffusion-pytorch; python train.py --datadir=\"../datasets/cars_train\" --outdir=\"../drive/MyDrive/Colab Notebooks/3dim/output\" --batchsize=32 --reportlossevery=30 --evaluateevery=20 --checkpointevery=10 --epochs=41"
      ]
    },
    {
      "cell_type": "markdown",
      "source": [
        "### Train - start from checkpoint"
      ],
      "metadata": {
        "id": "PxwjPEyoVWV5"
      }
    },
    {
      "cell_type": "code",
      "source": [
        "# import torch\n",
        "# torch.cuda.empty_cache()\n",
        "# !cd 3d-diffusion-pytorch; python train.py --datadir=\"../datasets/cars_train\" --checkpointdir=\"../drive/MyDrive/Colab Notebooks/3dim/output/1680854917\" --batchsize=32 --reportlossevery=32 --evaluateevery=2 --checkpointevery=2 --epochs=20"
      ],
      "metadata": {
        "id": "AQLQQ0g9UCfp"
      },
      "execution_count": null,
      "outputs": []
    },
    {
      "cell_type": "markdown",
      "source": [
        "### Inference only from model checkpoint"
      ],
      "metadata": {
        "id": "7fGvFP4Ee_zj"
      }
    },
    {
      "cell_type": "code",
      "source": [
        "# import torch\n",
        "# torch.cuda.empty_cache()\n",
        "# !cd 3d-diffusion-pytorch; python sampling.py --model=\"../drive/MyDrive/Colab Notebooks/3dim/output/1680854917/latest.pt\" --refimagedir=\"../datasets/cars_train/a4d535e1b1d3c153ff23af07d9064736\" --outdir=\"../drive/MyDrive/Colab Notebooks/3dim/output/1680854917/samples\""
      ],
      "metadata": {
        "id": "g-35BLHDQt5j"
      },
      "execution_count": null,
      "outputs": []
    },
    {
      "cell_type": "markdown",
      "source": [
        "### Kill the environment once complete"
      ],
      "metadata": {
        "id": "gxMVRRJ8sjhz"
      }
    },
    {
      "cell_type": "code",
      "source": [
        "# from google.colab import runtime\n",
        "# import time\n",
        "\n",
        "# # time.sleep(360)\n",
        "# runtime.unassign()"
      ],
      "metadata": {
        "id": "wppP08QysJrL"
      },
      "execution_count": null,
      "outputs": []
    }
  ],
  "metadata": {
    "accelerator": "GPU",
    "colab": {
      "provenance": []
    },
    "gpuClass": "premium",
    "kernelspec": {
      "display_name": "Python 3 (ipykernel)",
      "language": "python",
      "name": "python3"
    },
    "language_info": {
      "codemirror_mode": {
        "name": "ipython",
        "version": 3
      },
      "file_extension": ".py",
      "mimetype": "text/x-python",
      "name": "python",
      "nbconvert_exporter": "python",
      "pygments_lexer": "ipython3",
      "version": "3.10.8"
    }
  },
  "nbformat": 4,
  "nbformat_minor": 0
}